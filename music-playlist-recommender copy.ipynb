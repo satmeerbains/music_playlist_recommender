{
 "metadata": {
  "kernelspec": {
   "language": "python",
   "display_name": "Python 3",
   "name": "python3"
  },
  "language_info": {
   "name": "python",
   "version": "3.10.12",
   "mimetype": "text/x-python",
   "codemirror_mode": {
    "name": "ipython",
    "version": 3
   },
   "pygments_lexer": "ipython3",
   "nbconvert_exporter": "python",
   "file_extension": ".py"
  }
 },
 "nbformat_minor": 4,
 "nbformat": 4,
 "cells": [
  {
   "cell_type": "markdown",
   "source": "# **Playlist Recommender**\n### How many times were you playing music around friends/family and don't know which song to play next maintains the same vibe and energy? The goal of this model is to create a machine learning model that recommends a list of songs that best fit any song you input into.",
   "metadata": {},
   "attachments": {
    "image.png": {
     "image/png": "[encoded data removed]"
    }
   }
  },
  {
   "cell_type": "markdown",
   "source": "# 1. Importing libraries\n#### Let's first load all of the libraries necessary",
   "metadata": {}
  },
  {
   "cell_type": "code",
   "source": "import os\nimport warnings\nwarnings.simplefilter(\"ignore\", UserWarning)\n\nimport numpy as np\nimport pandas as pd\nimport seaborn as sns\n#!pip install plotly\nimport plotly.express as px \nimport matplotlib.pyplot as plt\n%matplotlib inline\n\nfrom sklearn.cluster import KMeans\nfrom sklearn.preprocessing import StandardScaler\nfrom sklearn.pipeline import Pipeline\nfrom sklearn.manifold import TSNE\nfrom sklearn.decomposition import PCA\n\n#!pip install spotipy\nimport spotipy\n\nfrom spotipy.oauth2 import SpotifyClientCredentials\nfrom collections import defaultdict\nfrom spotipy.oauth2 import SpotifyClientCredentials\nfrom collections import defaultdict\n \nfrom sklearn.metrics import euclidean_distances\nfrom scipy.spatial.distance import cdist\nimport difflib",
   "metadata": {
    "execution": {
     "iopub.status.busy": "2021-12-17T05:44:20.714397Z",
     "iopub.execute_input": "2021-12-17T05:44:20.715330Z",
     "iopub.status.idle": "2021-12-17T05:44:21.808185Z",
     "shell.execute_reply.started": "2021-12-17T05:44:20.715276Z",
     "shell.execute_reply": "2021-12-17T05:44:21.807394Z"
    },
    "trusted": true
   },
   "outputs": [],
   "execution_count": null
  },
  {
   "cell_type": "markdown",
   "source": "# 2. Loading data",
   "metadata": {}
  },
  {
   "cell_type": "code",
   "source": "df_main = pd.read_csv(\"/kaggle/input/spotify-1million-tracks/spotify_data.csv\").drop(['Unnamed: 0'],axis = 1)",
   "metadata": {},
   "outputs": [],
   "execution_count": null
  },
  {
   "cell_type": "markdown",
   "source": "# 3. Exploratory Data Analysis (EDA)",
   "metadata": {}
  },
  {
   "cell_type": "markdown",
   "source": "## 3.1 Data Description",
   "metadata": {}
  },
  {
   "cell_type": "markdown",
   "source": "#### We'll first create a custom function that shows us the data type, % missing data, and number of unique values for each feature in the dataframe",
   "metadata": {}
  },
  {
   "cell_type": "code",
   "source": "def df_explore(df):\n    missing = pd.DataFrame((df.isna().sum()/df.shape[0])*100).reset_index().rename(columns={'index': 'column',0:'%_missing'}).sort_values(by = '%_missing',ascending=False)\n    nunique = pd.DataFrame(df.nunique()).reset_index().rename(columns={'index': 'column',0:'nunique'}).sort_values(by = 'nunique',ascending=False)\n    dtypes = pd.DataFrame(df.dtypes).reset_index().rename(columns={'index': 'column',0:'dtype'})\n    return pd.merge(pd.merge(dtypes,missing,on='column'),nunique,on='column',how='left').sort_values(by='%_missing',ascending=False).sort_values(by = 'nunique', ascending = False)\nprint(df_main.shape)\n\ndf_explore(df_main)",
   "metadata": {},
   "outputs": [],
   "execution_count": null
  },
  {
   "cell_type": "markdown",
   "source": "## 3.2 Data Cleanup\n#### Since there is very little missing data we can omit those rows",
   "metadata": {}
  },
  {
   "cell_type": "code",
   "source": "df_main = df_main.dropna(axis = 0)",
   "metadata": {
    "trusted": true
   },
   "outputs": [],
   "execution_count": null
  },
  {
   "cell_type": "markdown",
   "source": "## 3.3 Visual Insights",
   "metadata": {}
  },
  {
   "cell_type": "markdown",
   "source": "### 3.3.1 Top 5 artists based on popularity",
   "metadata": {}
  },
  {
   "cell_type": "code",
   "source": "top10_artists = df_main.nlargest(5, 'popularity')\nfig = px.bar(top10_artists, x='artist_name', y=['popularity'], barmode='group')\nfig.update_layout(yaxis_title=\"popularity\", xaxis_title=\"artist\", title = f'Top 5 artists based on popularity')\nfig.update_layout(title={'x': 0.5, 'xanchor': 'center'})\nfig.show()",
   "metadata": {
    "_kg_hide-output": true,
    "execution": {
     "iopub.status.busy": "2021-12-17T05:44:22.636084Z",
     "iopub.execute_input": "2021-12-17T05:44:22.636733Z",
     "iopub.status.idle": "2021-12-17T05:44:22.647925Z",
     "shell.execute_reply.started": "2021-12-17T05:44:22.636686Z",
     "shell.execute_reply": "2021-12-17T05:44:22.646858Z"
    },
    "trusted": true
   },
   "outputs": [],
   "execution_count": null
  },
  {
   "cell_type": "markdown",
   "source": "### 3.3.2 Top 5 most popular artists and their associated audio features",
   "metadata": {}
  },
  {
   "cell_type": "code",
   "source": "fig = px.bar(df_main.nlargest(5, 'popularity'), x='artist_name', y=['valence', 'energy', 'danceability', 'acousticness'], barmode='group')\nfig.update_layout(yaxis_title=\"audio feature\", xaxis_title=\"artist\", title = f'Top 5 artists based on popularity and their audio features')\nfig.update_layout(title={'x': 0.5, 'xanchor': 'center'})\nfig.show()",
   "metadata": {},
   "outputs": [],
   "execution_count": null
  },
  {
   "cell_type": "markdown",
   "source": "### 3.3.3 Top 5 genres based on popularity",
   "metadata": {}
  },
  {
   "cell_type": "code",
   "source": "fig = px.bar(df_main.nlargest(10, 'popularity'), x='genre', y=['popularity'], barmode='group')\nfig.update_layout(yaxis_title=\"popularity\", xaxis_title=\"genre\", title = f'Top 5 genres based on popularity')\nfig.update_layout(title={'x': 0.5, 'xanchor': 'center'})\nfig.show()",
   "metadata": {},
   "outputs": [],
   "execution_count": null
  },
  {
   "cell_type": "markdown",
   "source": "### 3.3.4 Top 5 most popular genres and their associated audio features",
   "metadata": {}
  },
  {
   "cell_type": "code",
   "source": "fig = px.bar(df_main.nlargest(10, 'popularity'), x='genre', y=['valence', 'energy', 'danceability', 'acousticness'], barmode='group')\nfig.update_layout(yaxis_title=\"audio feature\", xaxis_title=\"genre\", title = f'Top 5 most popular genres and their associated audio features')\nfig.update_layout(title={'x': 0.5, 'xanchor': 'center'})\nfig.show()",
   "metadata": {},
   "outputs": [],
   "execution_count": null
  },
  {
   "cell_type": "markdown",
   "source": "# 4. K-means Clustering\n#### Clustering is a technique to divide data into different groups with the goal to identify significant/meaningful groups of data.\n#### K-means works best in this case because it divides the data into K clusters by minimizing the sum of the squared distances of each record to the mean of its assigned cluster. Finding the clusters that are best seperated.\n#### This way we can see how seperated our data clusters are. First we will cluster by genre and then by audio features\n",
   "metadata": {}
  },
  {
   "cell_type": "markdown",
   "source": "## 4.1 Clustering by genre",
   "metadata": {}
  },
  {
   "cell_type": "code",
   "source": [
    "# filtering on genre and numeric features\n",
    "genres = df_main[['mode', 'genre', 'acousticness', 'danceability', 'duration_ms',\n",
    "      'energy', 'instrumentalness', 'liveness', 'loudness', 'speechiness',\n",
    "      'tempo', 'valence', 'popularity', 'key','time_signature']]\n",
    "\n",
    "cluster_pipeline = Pipeline([('scaler', StandardScaler()), ('kmeans', KMeans(n_clusters=10))])\n",
    "cluster_pipeline.fit(genres.select_dtypes(np.number))\n",
    "genres['cluster'] = cluster_pipeline.predict(genres.select_dtypes(np.number))"
   ],
   "metadata": {
    "trusted": true
   },
   "outputs": [],
   "execution_count": null
  },
  {
   "cell_type": "markdown",
   "source": "### 4.1.2 Visualizing the clusters with tsne",
   "metadata": {}
  },
  {
   "cell_type": "code",
   "source": [
    "tsne_pipeline = Pipeline([('scaler', StandardScaler()), ('tsne', TSNE(n_components=2, verbose=0))])\n",
    "genre_embedding = tsne_pipeline.fit_transform(genres_data.select_dtypes(np.number))\n",
    "projection = pd.DataFrame(columns=['x', 'y'], data=genre_embedding)\n",
    "projection['genre'] = genres['genres']\n",
    "projection['cluster'] = genres['cluster']\n",
    "\n",
    "fig = px.scatter(projection, x='x', y='y', color='cluster', hover_data=['x', 'y', 'genre'])\n",
    "fig.show()"
   ],
   "metadata": {},
   "outputs": [],
   "execution_count": null
  },
  {
   "cell_type": "markdown",
   "source": "#### As expected, we have data points with similar genres that are located close to each other",
   "metadata": {}
  },
  {
   "cell_type": "markdown",
   "source": "## 4.2 Clustering by songs",
   "metadata": {}
  },
  {
   "cell_type": "code",
   "source": [
    "song_cluster_pipeline = Pipeline([('scaler', StandardScaler()), \n",
    "                                  ('kmeans', KMeans(n_clusters=20, \n",
    "                                   verbose=False))], verbose=False)\n",
    "\n",
    "X = df_main.select_dtypes(np.number)\n",
    "audio_features = list(X.columns)\n",
    "song_cluster_pipeline.fit(X)\n",
    "song_cluster_labels = song_cluster_pipeline.predict(X)\n",
    "df_main['cluster_label'] = song_cluster_labels"
   ],
   "metadata": {
    "_kg_hide-output": true,
    "execution": {
     "iopub.status.busy": "2021-12-17T05:44:43.190695Z",
     "iopub.execute_input": "2021-12-17T05:44:43.191246Z",
     "iopub.status.idle": "2021-12-17T05:44:55.203359Z",
     "shell.execute_reply.started": "2021-12-17T05:44:43.191203Z",
     "shell.execute_reply": "2021-12-17T05:44:55.202178Z"
    },
    "trusted": true
   },
   "outputs": [],
   "execution_count": null
  },
  {
   "cell_type": "markdown",
   "source": "### 4.2.1 Visualizing the clusters with PCA",
   "metadata": {}
  },
  {
   "cell_type": "code",
   "source": [
    "from sklearn.decomposition import PCA\n",
    "\n",
    "pca_pipeline = Pipeline([('scaler', StandardScaler()), ('PCA', PCA(n_components=2))])\n",
    "song_embedding = pca_pipeline.fit_transform(X)\n",
    "projection = pd.DataFrame(columns=['x', 'y'], data=song_embedding)\n",
    "projection['title'] = df_main['name']\n",
    "projection['cluster'] = df_main['cluster_label']\n",
    "\n",
    "fig = px.scatter(\n",
    "    projection, x='x', y='y', color='cluster', hover_data=['x', 'y', 'title'])\n",
    "fig.show()"
   ],
   "metadata": {},
   "outputs": [],
   "execution_count": null
  },
  {
   "cell_type": "markdown",
   "source": "#### We can see that our audio feature data is not as seperated, but nonetheless they are distinct clusters",
   "metadata": {}
  },
  {
   "cell_type": "markdown",
   "source": "# 5. Building the model\n\n#### Since we observed that similar genres and tracks's audio features are clustered close together, we can surmise that they sound similar.\n#### The basis of our model will be using closely clustered audio feature datapoints to determine which songs are the most similar to recommend to play next.",
   "metadata": {}
  },
  {
   "cell_type": "markdown",
   "source": "## 5.1 Initializing spotify API client credentials\n#### We will load spotipy which allows us to use the API client credentials to access data from Spotify's database",
   "metadata": {}
  },
  {
   "cell_type": "code",
   "source": "sp = spotipy.Spotify(auth_manager=SpotifyClientCredentials(client_id='client_id', client_secret='client_secret'))",
   "metadata": {
    "trusted": true
   },
   "outputs": [],
   "execution_count": null
  },
  {
   "cell_type": "markdown",
   "source": "## 5.2 Define functions for the recommender model\n#### We will start by creating a few functions that will be used in the final model",
   "metadata": {}
  },
  {
   "cell_type": "markdown",
   "source": "### 5.2.1 Getting song audio features\n#### This function is to pull the audio features for a given track needed to eventually be used to recommend songs",
   "metadata": {}
  },
  {
   "cell_type": "code",
   "source": [
    "def get_song(artist_name,name, year):\n",
    "    song_info = defaultdict()\n",
    "    results = sp.search(q= 'track: {} artists.str.contains({})'.format(name,year), limit=1)\n",
    "    if results['tracks']['items'] == []:\n",
    "        return None\n",
    "\n",
    "    results = results['tracks']['items'][0]\n",
    "    track_id = results['id']\n",
    "    audio_features = sp.audio_features(track_id)[0]\n",
    "    \n",
    "    song_info['artist_name'] = [artist_name]\n",
    "    song_info['track_name'] = [track_name]\n",
    "    song_info['year'] = [year]\n",
    "    song_info['duration_ms'] = [results['duration_ms']]\n",
    "    song_info['popularity'] = [results['popularity']]\n",
    "\n",
    "    for key, value in audio_features.items():\n",
    "        song_info[key] = value\n",
    "\n",
    "    return pd.DataFrame(song_info)\n"
   ],
   "metadata": {},
   "outputs": [],
   "execution_count": null
  },
  {
   "cell_type": "markdown",
   "source": "### 5.2.2 Getting song audio information\n#### This function is to pull the information such as track name, year, and artist name for a given song¶",
   "metadata": {}
  },
  {
   "cell_type": "code",
   "source": "def get_song_info(song, spotify_data):\n    \n    try:\n        song_info = spotify_data[(spotify_data['artist_name'] == song['artist_name'])&(spotify_data['track_name'] == song['track_name']) \n                                & (spotify_data['year'] == song['year'])].iloc[0]\n        return song_info\n    \n    except IndexError:\n        return get_song(song['artist_name'],song['track_name'], song['year'])",
   "metadata": {
    "trusted": true
   },
   "outputs": [],
   "execution_count": null
  },
  {
   "cell_type": "markdown",
   "source": "### 5.2.3 Generating the median for each audio feature\n#### In order to recommend a list of songs based on a given one, we need to use audio features. The best way to do this is to caculate the median of the value for each feature.",
   "metadata": {}
  },
  {
   "cell_type": "code",
   "source": "def get_median_vector(song_list, spotify_data):\n    \n    song_vectors = []\n    \n    for song in song_list:\n        song_info = get_song_info(song, spotify_data)\n        if song_info is None:\n            print('Warning: {} does not exist in Spotify or in database'.format(song['name']))\n            continue\n        song_vector = song_info[audio_features].values\n        song_vectors.append(song_vector)  \n    \n    song_matrix = np.array(list(song_vectors))\n    return np.median(song_matrix, axis=0)",
   "metadata": {},
   "outputs": [],
   "execution_count": null
  },
  {
   "cell_type": "markdown",
   "source": "### 5.2.4 Creating a dictionary that will be our input in the final model",
   "metadata": {}
  },
  {
   "cell_type": "code",
   "source": "def flatten_dict(dict_list):\n    \n    flattened_dict = defaultdict()\n    for key in dict_list[0].keys():\n        flattened_dict[key] = []\n    \n    for dictionary in dict_list:\n        for key, value in dictionary.items():\n            flattened_dict[key].append(value)\n    return flattened_dict",
   "metadata": {},
   "outputs": [],
   "execution_count": null
  },
  {
   "cell_type": "markdown",
   "source": "## 6.2 Building recommender model",
   "metadata": {}
  },
  {
   "cell_type": "code",
   "source": "def song_recommender(song_list, spotify_data,n_songs = 15):\n    \n    metadata_cols = ['artist_name','track_name','year']\n    song_dict = flatten_dict(song_list)\n    \n    song_mean = get_median_vector(song_list, spotify_data)\n    scaler = song_cluster_pipeline.steps[0][1]\n    scaled_data = scaler.transform(spotify_data[audio_features])\n    scaled_song_center = scaler.transform(song_mean.reshape(1, -1))\n    distances = cdist(scaled_song_center, scaled_data, 'cosine')\n    index = list(np.argsort(distances)[:, :n_songs][0])\n    \n    rec_songs = spotify_data.iloc[index]\n    rec_songs = rec_songs[~rec_songs['track_name'].isin(song_dict['track_name'])]\n    return rec_songs[metadata_cols].reset_index(drop=True)",
   "metadata": {},
   "outputs": [],
   "execution_count": null
  },
  {
   "cell_type": "markdown",
   "source": "# 7. Results",
   "metadata": {}
  },
  {
   "cell_type": "code",
   "source": "song_recommender([{'artist_name': \"50 Cent\",\n                   'track_name': \"Best Friend\",\n                   'year':2005}],  df_main)",
   "metadata": {},
   "outputs": [],
   "execution_count": null
  },
  {
   "metadata": {},
   "cell_type": "code",
   "source": "",
   "outputs": [],
   "execution_count": null
  }
 ]
}
